{
 "cells": [
  {
   "cell_type": "code",
   "execution_count": 1,
   "id": "82474559-9a6c-4a21-afdf-689335a115d7",
   "metadata": {},
   "outputs": [],
   "source": [
    "import matplotlib.pyplot as plt\n",
    "from matplotlib.pyplot import figure\n",
    "import numpy as np\n",
    "import pandas as pd"
   ]
  },
  {
   "cell_type": "code",
   "execution_count": 200,
   "id": "abae3faf-89fe-402b-9890-d92b89f82a21",
   "metadata": {},
   "outputs": [
    {
     "data": {
      "image/png": "[encoded data removed]",
      "text/plain": [
       "<Figure size 2400x480 with 1 Axes>"
      ]
     },
     "metadata": {},
     "output_type": "display_data"
    }
   ],
   "source": [
    "everon_island = pd.read_csv('test_island.csv', names=['ind', 'dist', 'delta'], header=None, delimiter=';')\n",
    "figure(figsize=(30, 6), dpi=80)\n",
    "plt.xticks(range(0,  everon_island.dist.size, 1))\n",
    "plt.scatter(range(0, everon_island.dist.size, 1), everon_island.dist.to_numpy())\n",
    "plt.grid(axis='both', which='both')"
   ]
  },
  {
   "cell_type": "code",
   "execution_count": 188,
   "id": "8dc8a691-999f-47ad-ba43-16b64199fadd",
   "metadata": {},
   "outputs": [],
   "source": [
    "indexes_may_cut = []"
   ]
  },
  {
   "cell_type": "code",
   "execution_count": 189,
   "id": "5f7e072e-9d22-44a2-80fe-152becfc8188",
   "metadata": {},
   "outputs": [],
   "source": [
    "def get_distances_to_signchange(signchange):\n",
    "    signchange_distances = []\n",
    "    for ind, val in enumerate(signchange):\n",
    "        not_val = 0 if val == 1 else 1\n",
    "        try:\n",
    "            not_val_index = signchange[ind + 1:].index(not_val)\n",
    "        except ValueError:\n",
    "            signchange_distances.append(10000000)\n",
    "            continue\n",
    "        signchange_distances.append(not_val_index)\n",
    "    return signchange_distances"
   ]
  },
  {
   "cell_type": "code",
   "execution_count": 190,
   "id": "163e5e4a-0c98-4ec1-a82f-503d8ce2cd13",
   "metadata": {},
   "outputs": [],
   "source": [
    "asign = np.sign(everon_island.delta.to_numpy())\n",
    "signchange = ((np.roll(asign, 1) - asign) != 0).astype(int)\n",
    "distances_to_signchanges = get_distances_to_signchange(signchange.tolist())\n",
    "distances_from_signchanges = list(reversed(get_distances_to_signchange(signchange.tolist()[::-1])))\n",
    "\n",
    "min_distances_to_signchanges = [min(i, j) for i, j in zip(distances_to_signchanges, distances_from_signchanges)]"
   ]
  },
  {
   "cell_type": "code",
   "execution_count": 191,
   "id": "4c3ad411-e619-465b-97d9-a25b2ac6eec6",
   "metadata": {},
   "outputs": [],
   "source": [
    "deltas_deltas = [abs(everon_island.delta[i] - everon_island.delta[i-1]) for i in range(1,  everon_island.delta.size)]\n",
    "deltas_deltas.insert(0, 0.)"
   ]
  },
  {
   "cell_type": "code",
   "execution_count": 192,
   "id": "d477516c-bbd5-4227-b6df-916b3770bacf",
   "metadata": {},
   "outputs": [],
   "source": [
    "dif_from_median= []\n",
    "del_med = np.median(np.median(everon_island.delta))\n",
    "for delta in everon_island.delta:\n",
    "    dif_from_median.append(abs(del_med - delta)) \n",
    "    "
   ]
  },
  {
   "cell_type": "code",
   "execution_count": 193,
   "id": "7356b1dd-9849-454b-9caa-af819b57148d",
   "metadata": {},
   "outputs": [],
   "source": [
    "everon_island['delta_delta']= deltas_deltas"
   ]
  },
  {
   "cell_type": "code",
   "execution_count": 194,
   "id": "2147fd57-2ac4-4793-8722-0d80ab9a84be",
   "metadata": {},
   "outputs": [],
   "source": [
    "everon_island['dif_from_median']= dif_from_median"
   ]
  },
  {
   "cell_type": "code",
   "execution_count": 195,
   "id": "b5552f79-09e6-4f0a-a77c-12f7e10524dd",
   "metadata": {},
   "outputs": [],
   "source": [
    "everon_island['min_distance_from_signchanges']= min_distances_to_signchanges"
   ]
  },
  {
   "cell_type": "code",
   "execution_count": 165,
   "id": "a4e2daba-3ecf-4811-83cd-0fc21ac2ae84",
   "metadata": {},
   "outputs": [],
   "source": [
    "#Setting places to cut \n",
    "everon_island['should_cut'] = False\n",
    "for ind in indexes_may_cut:\n",
    "    everon_island.at[ind, 'should_cut'] = True"
   ]
  },
  {
   "cell_type": "code",
   "execution_count": 201,
   "id": "7d46da1f-7bac-46c7-acca-bb4e878f5aac",
   "metadata": {},
   "outputs": [],
   "source": [
    "everon_island = everon_island.drop(columns = ['ind'], axis =1)"
   ]
  },
  {
   "cell_type": "code",
   "execution_count": 199,
   "id": "4b004fd5-3fa8-40af-b380-bccecca70662",
   "metadata": {},
   "outputs": [],
   "source": [
    "everon_island.to_csv('island_test.csv', index=False)"
   ]
  },
  {
   "cell_type": "code",
   "execution_count": 154,
   "id": "883990f0-0ff7-43eb-9903-f2ee52202724",
   "metadata": {},
   "outputs": [],
   "source": [
    "#Concat islands df"
   ]
  },
  {
   "cell_type": "code",
   "execution_count": 186,
   "id": "251d7d72-b087-4b19-8fc0-aa63a4c586ad",
   "metadata": {},
   "outputs": [
    {
     "data": {
      "text/html": [
       "<div>\n",
       "<style scoped>\n",
       "    .dataframe tbody tr th:only-of-type {\n",
       "        vertical-align: middle;\n",
       "    }\n",
       "\n",
       "    .dataframe tbody tr th {\n",
       "        vertical-align: top;\n",
       "    }\n",
       "\n",
       "    .dataframe thead th {\n",
       "        text-align: right;\n",
       "    }\n",
       "</style>\n",
       "<table border=\"1\" class=\"dataframe\">\n",
       "  <thead>\n",
       "    <tr style=\"text-align: right;\">\n",
       "      <th></th>\n",
       "      <th>dist</th>\n",
       "      <th>delta</th>\n",
       "      <th>delta_delta</th>\n",
       "      <th>dif_from_median</th>\n",
       "      <th>min_distance_from_signchanges</th>\n",
       "      <th>should_cut</th>\n",
       "    </tr>\n",
       "  </thead>\n",
       "  <tbody>\n",
       "    <tr>\n",
       "      <th>0</th>\n",
       "      <td>0.821307</td>\n",
       "      <td>0.211402</td>\n",
       "      <td>0.000000e+00</td>\n",
       "      <td>0.181989</td>\n",
       "      <td>13</td>\n",
       "      <td>False</td>\n",
       "    </tr>\n",
       "    <tr>\n",
       "      <th>1</th>\n",
       "      <td>1.097101</td>\n",
       "      <td>0.275794</td>\n",
       "      <td>6.439259e-02</td>\n",
       "      <td>0.246381</td>\n",
       "      <td>12</td>\n",
       "      <td>False</td>\n",
       "    </tr>\n",
       "    <tr>\n",
       "      <th>2</th>\n",
       "      <td>1.386558</td>\n",
       "      <td>0.289456</td>\n",
       "      <td>1.366181e-02</td>\n",
       "      <td>0.260043</td>\n",
       "      <td>11</td>\n",
       "      <td>False</td>\n",
       "    </tr>\n",
       "    <tr>\n",
       "      <th>3</th>\n",
       "      <td>1.676014</td>\n",
       "      <td>0.289456</td>\n",
       "      <td>1.000000e-09</td>\n",
       "      <td>0.260043</td>\n",
       "      <td>10</td>\n",
       "      <td>False</td>\n",
       "    </tr>\n",
       "    <tr>\n",
       "      <th>4</th>\n",
       "      <td>1.944390</td>\n",
       "      <td>0.268376</td>\n",
       "      <td>2.108001e-02</td>\n",
       "      <td>0.238963</td>\n",
       "      <td>9</td>\n",
       "      <td>False</td>\n",
       "    </tr>\n",
       "    <tr>\n",
       "      <th>...</th>\n",
       "      <td>...</td>\n",
       "      <td>...</td>\n",
       "      <td>...</td>\n",
       "      <td>...</td>\n",
       "      <td>...</td>\n",
       "      <td>...</td>\n",
       "    </tr>\n",
       "    <tr>\n",
       "      <th>17</th>\n",
       "      <td>1.751540</td>\n",
       "      <td>0.047543</td>\n",
       "      <td>2.958920e-02</td>\n",
       "      <td>0.000869</td>\n",
       "      <td>0</td>\n",
       "      <td>True</td>\n",
       "    </tr>\n",
       "    <tr>\n",
       "      <th>18</th>\n",
       "      <td>2.635020</td>\n",
       "      <td>0.294496</td>\n",
       "      <td>2.469531e-01</td>\n",
       "      <td>0.246084</td>\n",
       "      <td>1</td>\n",
       "      <td>False</td>\n",
       "    </tr>\n",
       "    <tr>\n",
       "      <th>19</th>\n",
       "      <td>4.090320</td>\n",
       "      <td>0.485099</td>\n",
       "      <td>1.906030e-01</td>\n",
       "      <td>0.436687</td>\n",
       "      <td>2</td>\n",
       "      <td>False</td>\n",
       "    </tr>\n",
       "    <tr>\n",
       "      <th>20</th>\n",
       "      <td>7.193710</td>\n",
       "      <td>1.034460</td>\n",
       "      <td>5.493610e-01</td>\n",
       "      <td>0.986048</td>\n",
       "      <td>3</td>\n",
       "      <td>False</td>\n",
       "    </tr>\n",
       "    <tr>\n",
       "      <th>21</th>\n",
       "      <td>14.016300</td>\n",
       "      <td>2.274180</td>\n",
       "      <td>1.239720e+00</td>\n",
       "      <td>2.225768</td>\n",
       "      <td>4</td>\n",
       "      <td>False</td>\n",
       "    </tr>\n",
       "  </tbody>\n",
       "</table>\n",
       "<p>220 rows × 6 columns</p>\n",
       "</div>"
      ],
      "text/plain": [
       "         dist     delta   delta_delta  dif_from_median  \\\n",
       "0    0.821307  0.211402  0.000000e+00         0.181989   \n",
       "1    1.097101  0.275794  6.439259e-02         0.246381   \n",
       "2    1.386558  0.289456  1.366181e-02         0.260043   \n",
       "3    1.676014  0.289456  1.000000e-09         0.260043   \n",
       "4    1.944390  0.268376  2.108001e-02         0.238963   \n",
       "..        ...       ...           ...              ...   \n",
       "17   1.751540  0.047543  2.958920e-02         0.000869   \n",
       "18   2.635020  0.294496  2.469531e-01         0.246084   \n",
       "19   4.090320  0.485099  1.906030e-01         0.436687   \n",
       "20   7.193710  1.034460  5.493610e-01         0.986048   \n",
       "21  14.016300  2.274180  1.239720e+00         2.225768   \n",
       "\n",
       "    min_distance_from_signchanges  should_cut  \n",
       "0                              13       False  \n",
       "1                              12       False  \n",
       "2                              11       False  \n",
       "3                              10       False  \n",
       "4                               9       False  \n",
       "..                            ...         ...  \n",
       "17                              0        True  \n",
       "18                              1       False  \n",
       "19                              2       False  \n",
       "20                              3       False  \n",
       "21                              4       False  \n",
       "\n",
       "[220 rows x 6 columns]"
      ]
     },
     "execution_count": 186,
     "metadata": {},
     "output_type": "execute_result"
    }
   ],
   "source": [
    "frames = []\n",
    "for index in range(1, 7, 1):\n",
    "    frames.append(pd.read_csv(f'island_{index}_res.csv', delimiter=','))\n",
    "result = pd.concat(frames)\n",
    "\n",
    "result = result.loc[:, ~result.columns.str.contains('^Unnamed')]\n",
    "result = result.drop(columns = ['ind'], axis = 1)\n",
    "result.to_csv('sum_island_df.csv', index=False)\n",
    "result"
   ]
  },
  {
   "cell_type": "code",
   "execution_count": null,
   "id": "9f42821f-66e4-415a-94de-33114b98813e",
   "metadata": {},
   "outputs": [],
   "source": []
  }
 ],
 "metadata": {
  "kernelspec": {
   "display_name": "Python 3 (ipykernel)",
   "language": "python",
   "name": "python3"
  },
  "language_info": {
   "codemirror_mode": {
    "name": "ipython",
    "version": 3
   },
   "file_extension": ".py",
   "mimetype": "text/x-python",
   "name": "python",
   "nbconvert_exporter": "python",
   "pygments_lexer": "ipython3",
   "version": "3.10.6"
  }
 },
 "nbformat": 4,
 "nbformat_minor": 5
}
