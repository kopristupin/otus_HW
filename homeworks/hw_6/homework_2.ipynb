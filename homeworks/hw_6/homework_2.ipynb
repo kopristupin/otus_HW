{
 "cells": [
  {
   "cell_type": "markdown",
   "metadata": {},
   "source": [
    "# <center> Homework 2 </center>"
   ]
  },
  {
   "cell_type": "code",
   "execution_count": 44,
   "metadata": {},
   "outputs": [
    {
     "name": "stdout",
     "output_type": "stream",
     "text": [
      "The autoreload extension is already loaded. To reload it, use:\n",
      "  %reload_ext autoreload\n"
     ]
    }
   ],
   "source": [
    "# autoreload позволяет нам подгружать изменения во внешнем коде\n",
    "# без необходимости перезагружать kernel у ноутбука\n",
    "%load_ext autoreload\n",
    "%autoreload 2"
   ]
  },
  {
   "cell_type": "markdown",
   "metadata": {},
   "source": [
    "## 1) Exceptions\n",
    "В модуле `exceptions` объявите следующие исключения:\n",
    "- LowFuelError\n",
    "- NotEnoughFuel\n",
    "- CargoOverload"
   ]
  },
  {
   "cell_type": "code",
   "execution_count": 45,
   "metadata": {},
   "outputs": [],
   "source": [
    "import exceptions"
   ]
  },
  {
   "cell_type": "markdown",
   "metadata": {},
   "source": [
    "## 2) Vehicle \n",
    "\n",
    "<img src=\"https://cs.pikabu.ru/images/big_size_comm/2013-12_4/13874526438897.jpg\" width=300>\n",
    "\n",
    "Доработайте базовый класс `Vehicle`:\n",
    "- добавьте атрибуты `weight`, `started`, `fuel`, `fuel_consumption` со значениями по умолчанию\n",
    "- добавьте инициализатор для установки `weight`, `fuel`, `fuel_consumption`\n",
    "- добавьте метод `start`, который, если ещё не состояние `started`, проверяет, что топлива больше нуля, \n",
    "  и обновляет состояние `started`, иначе выкидывает исключение `exceptions.LowFuelError`\n",
    "- добавьте метод `move`, который проверяет, \n",
    "  что достаточно топлива для преодоления переданной дистанции, \n",
    "  и изменяет количество оставшегося топлива, иначе выкидывает исключение `exceptions.NotEnoughFuel`"
   ]
  },
  {
   "cell_type": "code",
   "execution_count": 46,
   "metadata": {},
   "outputs": [],
   "source": [
    "from abc import ABC\n",
    "\n",
    "\n",
    "class Vehicle(ABC):\n",
    "    \n",
    "    def __init__(self, weight: float = 0., fuel: float = 0., fuel_consumption: float=0.):\n",
    "        self._weight = weight\n",
    "        self._started = False\n",
    "        self._fuel = fuel\n",
    "        self._fuel_consumption = fuel_consumption\n",
    "    \n",
    "    def start(self):\n",
    "        if not self._fuel > 0:\n",
    "            raise exceptions.LowFuelError\n",
    "        if not self._started:\n",
    "            self._started = True\n",
    "\n",
    "    def move(self, distance: float):\n",
    "        if distance / self._fuel_consumption > self._fuel:\n",
    "            raise exceptions.NotEnoughFuel(self._fuel, distance / self._fuel_consumption)\n",
    "        self._fuel -= distance / self._fuel_consumption\n"
   ]
  },
  {
   "cell_type": "markdown",
   "metadata": {},
   "source": [
    "## 3) Engine \n",
    "\n",
    "<img src=\"https://upload.wikimedia.org/wikipedia/commons/6/6f/National_gas_engine_%28Rankin_Kennedy%2C_Modern_Engines%2C_Vol_II%29.jpg\" width=250>\n",
    "\n",
    "Создайте датакласс `Engine`, добавьте атрибуты `volume` и `pistons`"
   ]
  },
  {
   "cell_type": "code",
   "execution_count": 47,
   "metadata": {},
   "outputs": [],
   "source": [
    "\"\"\"\n",
    "create dataclass `Engine`\n",
    "\"\"\"\n",
    "\n",
    "class Engine:\n",
    "    def __init__(self, volume:float, pistons: int):\n",
    "        self._volume = volume\n",
    "        self._pistons = pistons\n",
    "    \n",
    "    @property\n",
    "    def volume(self):\n",
    "        return self._volume\n",
    "    \n",
    "    @property\n",
    "    def pistons(self):\n",
    "        return self._pistos\n",
    "    "
   ]
  },
  {
   "cell_type": "markdown",
   "metadata": {},
   "source": [
    "## 4) Car \n",
    "\n",
    "<img src=\"https://lh3.googleusercontent.com/proxy/RJqzSJqZFQrx7xOXimZQ4ooInGE6ViJdwz7JZZ_b__Eun-stRH2NMw47fM4je2hL1afRtmpKS9kZUVY0p2YcaZVtJ7bKRw3wWHRRa6zVUbeIb5TYLNkwx5A\" width=250>\n",
    "\n",
    "Cоздайте класс `Car`\n",
    "    - класс `Car` должен быть наследником `Vehicle`\n",
    "    - добавьте атрибут `engine` классу `Car`\n",
    "    - объявите метод `set_engine`, который принимает в себя экземпляр объекта `Engine` и устанавливает на текущий экземпляр `Car`"
   ]
  },
  {
   "cell_type": "code",
   "execution_count": 48,
   "metadata": {},
   "outputs": [],
   "source": [
    "\"\"\"\n",
    "создайте класс `Car`, наследник `Vehicle`\n",
    "\"\"\"\n",
    "\n",
    "class Car(Vehicle):\n",
    "\n",
    "    def __init__(self, weight: float, fuel: float, fuel_consumption: float):\n",
    "        super().__init__(weight, fuel, fuel_consumption)\n",
    "        self.engine = None\n",
    "    \n",
    "    def set_engine(self, engine: Engine):\n",
    "        self.engine = engine\n"
   ]
  },
  {
   "cell_type": "markdown",
   "metadata": {},
   "source": [
    "## 5) Plane\n",
    "\n",
    "<img src=\"http://www.weirduniverse.net/images/2017/1934parachute02.jpg\" width=250>\n",
    "\n",
    "Создайте класс `Plane`\n",
    "- класс `Plane` должен быть наследником `Vehicle`\n",
    "- добавьте атрибуты `cargo` и `max_cargo` классу `Plane`\n",
    "- добавьте `max_cargo` в инициализатор (переопределите родительский)\n",
    "- объявите метод `load_cargo`, который принимает число, проверяет, что в сумме с текущим `cargo` не будет перегруза, и обновляет значение, в ином случае выкидывает исключение `exceptions.CargoOverload`\n",
    "- объявите метод `remove_all_cargo`, который обнуляет значение `cargo` и возвращает значение `cargo`, которое было до обнуления"
   ]
  },
  {
   "cell_type": "code",
   "execution_count": 49,
   "metadata": {},
   "outputs": [],
   "source": [
    "\"\"\"\n",
    "создайте класс `Plane`, наследник `Vehicle`\n",
    "\"\"\"\n",
    "\n",
    "class Plane(Vehicle):\n",
    "    \n",
    "    def __init__(self, weight: float, fuel: float, fuel_consumption: float, cargo: float, max_cargo: float):\n",
    "        super().__init__(weight, fuel, fuel_consumption)\n",
    "        self.cargo = cargo\n",
    "        self.max_cargo = max_cargo\n",
    "    \n",
    "    def load_cargo(self, cargo_to_load: float):\n",
    "        if self.cargo  + cargo_to_load > self.max_cargo:\n",
    "            raise exceptions.CargoOverload(self.cargo  + cargo_to_load, self.max_cargo)\n",
    "        self.cargo += cargo_to_load\n",
    "\n",
    "    def remove_all_cargo(self) -> float:\n",
    "        cargo_before_removing = self.cargo\n",
    "        self.cargo = 0\n",
    "        return cargo_before_removing"
   ]
  },
  {
   "cell_type": "code",
   "execution_count": 52,
   "metadata": {},
   "outputs": [],
   "source": [
    "car = Car(1800., 50., 8.7)\n",
    "engine = Engine(1.6, 4)\n",
    "car.set_engine(engine)\n",
    "\n",
    "plane = Plane(3600., 200., 30., 80., 350.)"
   ]
  },
  {
   "cell_type": "code",
   "execution_count": 56,
   "metadata": {},
   "outputs": [
    {
     "name": "stdout",
     "output_type": "stream",
     "text": [
      "Not enough fuel. On board: 22.413793103448278, need: 68.96551724137932\n",
      "Cago overload: max possible cargo: 350.0,cargo to load: 380.0\n"
     ]
    }
   ],
   "source": [
    "try:\n",
    "    car.move(60)\n",
    "    car.move(600)\n",
    "except exceptions.NotEnoughFuel as not_enough_fuel_err:\n",
    "    print(not_enough_fuel_err)\n",
    "\n",
    "try:\n",
    "    plane.load_cargo(100)\n",
    "    plane.load_cargo(100)\n",
    "    plane.load_cargo(100)\n",
    "except exceptions.CargoOverload as cargo_overload_err:\n",
    "    print(cargo_overload_err)\n"
   ]
  }
 ],
 "metadata": {
  "kernelspec": {
   "display_name": "Python 3",
   "language": "python",
   "name": "python3"
  },
  "language_info": {
   "codemirror_mode": {
    "name": "ipython",
    "version": 3
   },
   "file_extension": ".py",
   "mimetype": "text/x-python",
   "name": "python",
   "nbconvert_exporter": "python",
   "pygments_lexer": "ipython3",
   "version": "3.12.1"
  },
  "varInspector": {
   "cols": {
    "lenName": 16,
    "lenType": 16,
    "lenVar": 40
   },
   "kernels_config": {
    "python": {
     "delete_cmd_postfix": "",
     "delete_cmd_prefix": "del ",
     "library": "var_list.py",
     "varRefreshCmd": "print(var_dic_list())"
    },
    "r": {
     "delete_cmd_postfix": ") ",
     "delete_cmd_prefix": "rm(",
     "library": "var_list.r",
     "varRefreshCmd": "cat(var_dic_list()) "
    }
   },
   "types_to_exclude": [
    "module",
    "function",
    "builtin_function_or_method",
    "instance",
    "_Feature"
   ],
   "window_display": false
  }
 },
 "nbformat": 4,
 "nbformat_minor": 2
}
